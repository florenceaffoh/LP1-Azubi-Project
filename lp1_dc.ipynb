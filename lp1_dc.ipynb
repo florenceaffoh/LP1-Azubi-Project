{
 "cells": [
  {
   "attachments": {},
   "cell_type": "markdown",
   "metadata": {},
   "source": [
    "# INDIAN STARTUP ECOSYSTEM DATA ANALYSIS\n",
    "\n",
    "This is a simple data understanding and cleaning process done on the Indian startup ecosystem dataset of 2019 employing the influential CRISP-DM methodology as our guiding framework of which the above processes are a main part of. The various steps involve in each of the stated process include;\n",
    "\n",
    "## Data Understanding\n",
    "\n",
    "* Collect initial data\n",
    "* Describe data\n",
    "* Explore data\n",
    "* Verify data quality\n",
    "\n",
    "## Data Preparation\n",
    "\n",
    "* Select data\n",
    "* Clean data\n",
    "* Construct data\n",
    "* Format data\n",
    "\n",
    "\n",
    "\n"
   ]
  },
  {
   "cell_type": "code",
   "execution_count": null,
   "metadata": {},
   "outputs": [],
   "source": [
    "import pandas as pd\n",
    "import numpy as np\n",
    "import scipy.stats as stats\n",
    "\n",
    "import seaborn as sns\n",
    "import matplotlib.pyplot as plt\n",
    "import matplotlib.dates as mdates\n",
    "from sklearn.impute import SimpleImputer\n",
    "\n",
    "import statsmodels.api as sm\n",
    "from statsmodels.formula.api import ols\n",
    "\n",
    "import warnings\n",
    "warnings.filterwarnings('ignore')\n",
    "\n",
    "from scipy import stats"
   ]
  },
  {
   "cell_type": "code",
   "execution_count": null,
   "metadata": {},
   "outputs": [],
   "source": [
    "file_path = '/Users/florenceaffoh/Downloads/startup_funding2019.csv'\n",
    "startup_2019 = pd.read_csv(file_path)\n",
    "\n",
    "startup_2019.tail()"
   ]
  },
  {
   "attachments": {},
   "cell_type": "markdown",
   "metadata": {},
   "source": [
    "DATA EXPLORATORY ANALYSIS"
   ]
  },
  {
   "cell_type": "code",
   "execution_count": null,
   "metadata": {},
   "outputs": [],
   "source": [
    "print(startup_2019.shape)\n",
    "print(startup_2019.isnull().sum())\n"
   ]
  },
  {
   "cell_type": "code",
   "execution_count": null,
   "metadata": {},
   "outputs": [],
   "source": [
    "startup_2019.columns"
   ]
  },
  {
   "cell_type": "code",
   "execution_count": null,
   "metadata": {},
   "outputs": [],
   "source": [
    "startup_2019.nunique()"
   ]
  },
  {
   "cell_type": "code",
   "execution_count": null,
   "metadata": {},
   "outputs": [],
   "source": [
    "startup_2019.describe()\n"
   ]
  },
  {
   "cell_type": "code",
   "execution_count": null,
   "metadata": {},
   "outputs": [],
   "source": [
    "startup_2019.dtypes"
   ]
  },
  {
   "cell_type": "code",
   "execution_count": null,
   "metadata": {},
   "outputs": [],
   "source": [
    "startup_2019['Amount($)'].unique()"
   ]
  },
  {
   "cell_type": "code",
   "execution_count": null,
   "metadata": {},
   "outputs": [],
   "source": [
    "startup_2019['Sector'].unique()"
   ]
  },
  {
   "cell_type": "code",
   "execution_count": null,
   "metadata": {},
   "outputs": [],
   "source": [
    "startup_2019['Company/Brand'].duplicated().sum()\n",
    "\n",
    "duplicated_companies = startup_2019[startup_2019['Company/Brand'].duplicated()]\n",
    "print(duplicated_companies['Company/Brand'])\n"
   ]
  },
  {
   "cell_type": "code",
   "execution_count": null,
   "metadata": {},
   "outputs": [],
   "source": [
    "startup_2019['HeadQuarter'].duplicated().sum()"
   ]
  },
  {
   "cell_type": "code",
   "execution_count": null,
   "metadata": {},
   "outputs": [],
   "source": [
    "startup_2019['Stage'].unique()"
   ]
  },
  {
   "attachments": {},
   "cell_type": "markdown",
   "metadata": {},
   "source": [
    "Dealing with Missing values"
   ]
  },
  {
   "cell_type": "code",
   "execution_count": null,
   "metadata": {},
   "outputs": [],
   "source": [
    "# Remove the '$' sign and any other non-numeric characters\n",
    "startup_2019['Amount($)'] = startup_2019['Amount($)'].str.replace('[^\\d.]', '', regex=True)\n",
    "\n",
    "# Convert the 'amount' column to integer dtype\n",
    "startup_2019['Amount($)'] = pd.to_numeric(startup_2019['Amount($)'], errors='coerce', downcast='integer')\n",
    "\n",
    "# Verify the updated dtype of the 'amount' column\n",
    "print(startup_2019['Amount($)'].dtype)\n"
   ]
  },
  {
   "cell_type": "code",
   "execution_count": null,
   "metadata": {},
   "outputs": [],
   "source": [
    "startup_2019['Amount($)'].unique()\n"
   ]
  },
  {
   "cell_type": "code",
   "execution_count": null,
   "metadata": {},
   "outputs": [],
   "source": [
    "startup_2019.columns\n"
   ]
  },
  {
   "cell_type": "code",
   "execution_count": null,
   "metadata": {},
   "outputs": [],
   "source": [
    "num_col = ['Amount($)']\n",
    "cat_cols = ['Company/Brand', 'HeadQuarter', 'Sector', 'What it does', 'Founders', 'Investor','Stage','Founded']"
   ]
  },
  {
   "cell_type": "code",
   "execution_count": null,
   "metadata": {},
   "outputs": [],
   "source": [
    "num_imputer = SimpleImputer(strategy = 'mean').fit(startup_2019[num_col])\n",
    "cal_imputer= SimpleImputer(strategy = \"most_frequent\").fit(startup_2019[cat_cols])"
   ]
  },
  {
   "cell_type": "code",
   "execution_count": null,
   "metadata": {},
   "outputs": [],
   "source": [
    "startup_2019_num_imputed = pd.DataFrame(num_imputer.transform(startup_2019[num_col]), columns = num_col)\n",
    "cat_num_imputed =  pd.DataFrame(cal_imputer.transform(startup_2019[cat_cols]), columns = cat_cols)"
   ]
  },
  {
   "cell_type": "code",
   "execution_count": null,
   "metadata": {},
   "outputs": [],
   "source": [
    "startup_2019_num_imputed"
   ]
  },
  {
   "cell_type": "code",
   "execution_count": null,
   "metadata": {},
   "outputs": [],
   "source": [
    "cat_num_imputed"
   ]
  },
  {
   "cell_type": "code",
   "execution_count": null,
   "metadata": {},
   "outputs": [],
   "source": [
    "startup_2019 = pd.concat([startup_2019_num_imputed, cat_num_imputed])\n",
    "\n",
    "startup_2019"
   ]
  },
  {
   "attachments": {},
   "cell_type": "markdown",
   "metadata": {},
   "source": [
    "Hypothesis\n",
    "\n",
    "Null Hypothesis: The location of the startup does not influence the amount of funding it would receive.\n",
    "\n",
    "Alternate Hypothesis: The sector within which the startup finds itself influences the amount of funding it would receive.\n",
    "\n",
    "Questions\n",
    "\n",
    "1. Which Sector gets the most/least funding?\n",
    "2. Does the year  the startup was funded influence the amount of funding it would receive?\n",
    "3. which startup according to age was funding awarded the most/ least?\n",
    "4. Does the number of founders in a startup influence the amount of funding it would receive?\n",
    "5. What are the top 10 highest amount of money given out to a startup?\n",
    "6. (Skipped me but was about the stages)"
   ]
  },
  {
   "cell_type": "code",
   "execution_count": null,
   "metadata": {},
   "outputs": [],
   "source": [
    "# Perform the t-test\n",
    "group1 = startup_2019['HeadQuarter']\n",
    "group2 = startup_2019['Amount($)']\n",
    "\n",
    "t_statistic, p_value = stats.ttest_ind(group1, group2)\n",
    "\n",
    "# Print the results\n",
    "print(\"T-Statistic:\", t_statistic)\n",
    "print(\"P-Value:\", p_value)\n"
   ]
  }
 ],
 "metadata": {
  "kernelspec": {
   "display_name": "Python 3",
   "language": "python",
   "name": "python3"
  },
  "language_info": {
   "codemirror_mode": {
    "name": "ipython",
    "version": 3
   },
   "file_extension": ".py",
   "mimetype": "text/x-python",
   "name": "python",
   "nbconvert_exporter": "python",
   "pygments_lexer": "ipython3",
   "version": "3.11.4"
  },
  "orig_nbformat": 4
 },
 "nbformat": 4,
 "nbformat_minor": 2
}
